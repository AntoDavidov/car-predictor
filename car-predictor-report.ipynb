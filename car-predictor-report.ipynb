{
 "cells": [
  {
   "cell_type": "markdown",
   "id": "05aff1c9",
   "metadata": {},
   "source": [
    "# Car Brand Predicting: Audi, BMW, Mercedes\n",
    "\n",
    "In the modern automotive industry, visual brand identity plays a crucial role. Each car manufacturer designs vehicles with unique styling elements—from grille shape to headlight design—that make their cars instantly recognizable. \n",
    "\n",
    "\n",
    "This project introduces a **machine learning-driven** and **Convolutional Neural Network** model, aimed at predicting the car brand.\n",
    "\n",
    "---\n",
    "\n",
    "### Notebook Focus: Summary and Key insights gained from the project\n",
    "\n",
    "This notebook focuses specifically on **_[EDA / Machine Learning / Explainability]_**, showcasing how data science can solve this real operational problem."
   ]
  },
  {
   "cell_type": "markdown",
   "id": "4f8f336d",
   "metadata": {},
   "source": [
    "## What Does the Model Do?\n",
    "\n",
    "The purpose of this machine learning model is to **predict the car brand when an image is uploaded**.\n",
    "\n",
    "Instead of relying solely on only the car brand logo, in some cases the logo may have fallen off the vehicle and without it a normal model, which only recognizes the car logo is not suitable. In this case this is why I am developing an AI model, which disregards the logo and predicts based other features of the car.\n",
    "\n",
    "---\n",
    "\n",
    "## Data Source: Pinterest and Car Trafficking Cameras from Google Images\n",
    "\n",
    "All input data used for training the model was extracted from **interest and Car Trafficking Cameras from Google Images**.\n",
    "\n",
    "This approach is taken, because:\n",
    "- That way, the model is trained on diverse, real-world scenarios, including various lighting conditions, angles, and occlusions.\n",
    "- It helps the model generalize better to situations where cars are photographed in motion or partially obstructed, as often seen in security footage or traffic surveillance.\n",
    "- It mimics real deployment conditions, where the brand logo may not be visible, damaged, or removed.\n",
    "\n"
   ]
  },
  {
   "cell_type": "markdown",
   "id": "11484d1d",
   "metadata": {},
   "source": [
    "##  Key Insights\n",
    "\n",
    "1. Class Distribution\n",
    "The dataset included a total of 183 labeled images:\n",
    "- Audi: 67 images\n",
    "- BMW: 59 images\n",
    "- Mercedes: 57 images\n",
    "\n",
    "While not perfectly balanced, the classes are close enough for initial experimentation without major resampling.\n",
    "\n",
    "2. Model Performance\n",
    "The final validation accuracy was 50%, but there’s significant room for improvement.\n",
    "\n",
    "This relatively low accuracy suggests:\n",
    "\n",
    "- The current model struggles to generalize across brand-specific features.\n",
    "- The limited dataset size and visual similarity between some models may be contributing factors.\n",
    "- Overfitting is a possible concern, especially if performance on the training set was much higher.\n",
    "\n",
    "3. Data Quality & Variability\n",
    "Images were collected from Pinterest and Google Images (Traffic Cameras), resulting in:\n",
    "\n",
    "- High variance in resolution, angles, and lighting conditions.\n",
    "- Some images showing partial cars, blurred backgrounds, or obstructed views.\n",
    "- Such diversity is realistic but challenging—helpful long-term, but difficult for small models without more data.\n",
    "\n",
    "4. Model Focus Areas (Explainability)\n",
    "Using Grad-CAM visualizations, the model showed activation around:\n",
    "\n",
    "- Grilles, headlights, and side profile contours.\n",
    "- In some cases, even wheel rims and mirror designs influenced predictions.\n",
    "\n",
    "Importantly, the model does not rely on logos, supporting the goal of learning from design language alone."
   ]
  },
  {
   "cell_type": "markdown",
   "id": "9d763d0f",
   "metadata": {},
   "source": [
    "## Ethical Considerations\n",
    "\n",
    "This project uses publicly available images from platforms like Pinterest and Google Images, including some that resemble traffic camera footage. While this supports training in realistic conditions, it raises concerns about privacy, especially if license plates, faces, or identifiable locations are visible. Any future use of the model should ensure all personally identifiable information is removed, and that image sources are compliant with usage rights and licensing.\n",
    "\n",
    "Additionally, it's important to consider the potential misuse of such a model. A system capable of identifying car brands without logos could be exploited for surveillance, profiling, or unauthorized tracking. To avoid reinforcing bias or violating privacy, developers must ensure diverse, representative datasets and clearly define the model's intended use—limiting its application to responsible, transparent, and ethical scenarios."
   ]
  },
  {
   "cell_type": "markdown",
   "id": "6c4fb82c",
   "metadata": {},
   "source": [
    "## Sources\n",
    "\n",
    "1. Image Data:\n",
    "- Pinterest (www.pinterest.com)\n",
    "- Google Images (filtered traffic camera photos for educational purposes only)\n",
    "\n",
    "2. Pre-trained Models:\n",
    "- TensorFlow/Keras Applications: ResNet50, EfficientNet (https://keras.io/api/applications/)\n",
    "- Transfer Learning Techniques: PapersWithCode and official TensorFlow documentation\n",
    "\n",
    "3. Technical Support and Guidance:\n",
    "- ChatGPT (OpenAI, GPT-4) — Assisted throughout the project with reframing the text outlined in both notebooks.\n",
    "- You (Project Author): Collected and curated data, trained the model, and developed the notebook end-to-end"
   ]
  }
 ],
 "metadata": {
  "language_info": {
   "name": "python"
  }
 },
 "nbformat": 4,
 "nbformat_minor": 5
}
