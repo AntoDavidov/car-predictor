{
 "cells": [
  {
   "cell_type": "markdown",
   "id": "902c4a3f",
   "metadata": {},
   "source": [
    "# Car Make Classifier: Full Scale\n",
    "\n",
    "In the modern automotive industry, visual brand identity plays a crucial role. Each car manufacturer designs vehicles with unique styling elements—from grille shape to headlight design—that make their cars instantly recognizable. \n",
    "\n",
    "In this project, we aim to harness the power of image classification using deep learning to build a model that can automatically identify whether a car in an image belongs to BMW, Porsche, Toyota, Peugeut, Tesla, Audi, etc.\n",
    "\n",
    "### 🎯 Objective\n",
    "For the initial model we are going to feed it with images from one of the most immediatelly recognizable cars: **Audi**, **BMW** and **Mercedes**.\n",
    "\n",
    "The goal is to develop a machine learning model that takes a full image of a car and correctly classifies it as one of the brands from above. The model will be trained on a curated image dataset and evaluated on its ability to generalize to new, unseen car images."
   ]
  },
  {
   "cell_type": "markdown",
   "id": "47343c00",
   "metadata": {},
   "source": [
    "-----"
   ]
  },
  {
   "cell_type": "markdown",
   "id": "bf0aefb2",
   "metadata": {},
   "source": [
    "## 🌐 Domain Context\n",
    "In today's digital landscape, apps that leverage computer vision are becoming increasingly prevalent across industries — from retail and security to automotive technology. Within the automotive domain, identifying the make of a vehicle from a photo has practical value in multiple applications: car listing platforms, mobile parking apps, AI-powered insurance inspections, and even driver-assistance systems.\n",
    "\n",
    "Ultimately, this project demonstrates how AI can bridge the gap between real-world visual data and intelligent brand recognition, opening the door for smarter, image-driven applications in the automotive and consumer tech space."
   ]
  },
  {
   "cell_type": "code",
   "execution_count": 1,
   "id": "7b2a5369",
   "metadata": {},
   "outputs": [
    {
     "name": "stdout",
     "output_type": "stream",
     "text": [
      "scikit-learn version: 1.6.1\n",
      "numpy version: 2.1.3\n",
      "matplotlib version: 3.10.0\n"
     ]
    }
   ],
   "source": [
    "import copy, pathlib, math\n",
    "import PIL.Image as Image\n",
    "\n",
    "import sklearn\n",
    "import numpy\n",
    "import matplotlib\n",
    "import matplotlib.pyplot as plt\n",
    "\n",
    "print(\"scikit-learn version:\", sklearn.__version__)     # 1.1.3\n",
    "print(\"numpy version:\", numpy.__version__)              # 1.23.4\n",
    "print(\"matplotlib version:\", matplotlib.__version__) "
   ]
  }
 ],
 "metadata": {
  "kernelspec": {
   "display_name": "Python 3",
   "language": "python",
   "name": "python3"
  },
  "language_info": {
   "codemirror_mode": {
    "name": "ipython",
    "version": 3
   },
   "file_extension": ".py",
   "mimetype": "text/x-python",
   "name": "python",
   "nbconvert_exporter": "python",
   "pygments_lexer": "ipython3",
   "version": "3.11.9"
  }
 },
 "nbformat": 4,
 "nbformat_minor": 5
}
