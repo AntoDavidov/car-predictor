{
 "cells": [
  {
   "cell_type": "markdown",
   "id": "902c4a3f",
   "metadata": {},
   "source": [
    "# Car Make Classifier: Full Scale\n",
    "\n",
    "In the modern automotive industry, visual brand identity plays a crucial role. Each car manufacturer designs vehicles with unique styling elements—from grille shape to headlight design—that make their cars instantly recognizable. \n",
    "\n",
    "In this project, we aim to harness the power of image classification using deep learning to build a model that can automatically identify whether a car in an image belongs to BMW, Porsche, Toyota, Peugeut, Tesla, Audi, etc.\n",
    "\n",
    "### 🎯 Objective\n",
    "For the initial model we are going to feed it with images from one of the most immediatelly recognizable cars: **Audi**, **BMW** and **Mercedes**.\n",
    "\n",
    "The goal is to develop a machine learning model that takes a full image of a car and correctly classifies it as one of the brands from above. The model will be trained on a curated image dataset and evaluated on its ability to generalize to new, unseen car images."
   ]
  },
  {
   "cell_type": "markdown",
   "id": "47343c00",
   "metadata": {},
   "source": [
    "-----"
   ]
  },
  {
   "cell_type": "markdown",
   "id": "bf0aefb2",
   "metadata": {},
   "source": [
    "## 🌐 Domain Context\n",
    "In today's digital landscape, apps that leverage computer vision are becoming increasingly prevalent across industries — from retail and security to automotive technology. Within the automotive domain, identifying the make of a vehicle from a photo has practical value in multiple applications: car listing platforms, mobile parking apps, AI-powered insurance inspections, and even driver-assistance systems.\n",
    "\n",
    "Ultimately, this project demonstrates how AI can bridge the gap between real-world visual data and intelligent brand recognition, opening the door for smarter, image-driven applications in the automotive and consumer tech space."
   ]
  }
 ],
 "metadata": {
  "language_info": {
   "name": "python"
  }
 },
 "nbformat": 4,
 "nbformat_minor": 5
}
